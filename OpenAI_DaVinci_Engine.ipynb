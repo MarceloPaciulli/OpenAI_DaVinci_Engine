{
 "cells": [
  {
   "cell_type": "code",
   "execution_count": 3,
   "id": "941762b2",
   "metadata": {},
   "outputs": [
    {
     "name": "stdout",
     "output_type": "stream",
     "text": [
      "\u001b[1m\u001b[1mEnglish Language\n",
      "This table shows the main 20 programming languages in May 2023 and 2022, as well as classification rates and changes over the previous year.The main programming languages are Python, C, Java, C ++, C #, Visual Basic, JavaScript, PHP, SQL, Assembly Language, Delphi / Object Pascal, GO, Scratch, Swift, Matlab, R, Rust, Ruby, Ruby,Fortran and Classic Visual Basic.\n",
      "\n",
      "\u001b[1m\u001b[1mSpanish Language\n",
      "Esta tabla muestra los 20 lenguajes de programación principales en mayo de 2023 y 2022, así como las tasas y cambios de clasificación durante el año anterior.Los principales lenguajes de programación son Python, C, Java, C ++, C #, Visual Basic, JavaScript, PHP, SQL, Language de ensamblaje, Delphi / Object Pascal, Go, Scratch, Swift, Matlab, R, Rust, Ruby, Ruby , Ruby, Fortran y Classic Visual Basic.\n",
      "\n",
      "\u001b[1m\u001b[1mItalian Language\n",
      "Questa tabella mostra i principali 20 linguaggi di programmazione nel maggio 2023 e 2022, nonché tassi di classificazione e variazioni nell'anno precedente.I principali linguaggi di programmazione sono Python, C, Java, C ++, C #, Visual Basic, JavaScript, PHP, SQL, Assembly Language, Delphi / Object Pascal, Go, Scratch, Swift, Matlab, R, Rust, Ruby , Ruby, Fortran e Classic Visual Basic.\n",
      "\n",
      "\u001b[1m\u001b[1mUkrainian Language\n",
      "У цій таблиці показані основні 20 мов програмування у травні 2023 та 2022 рр., А також рівень класифікації та зміни за попередній рік.Основними мовами програмування є Python, C, Java, C ++, C #, Visual Basic, JavaScript, PHP, SQL, мова складання, Delphi / Object Pascal, Go, Scratch, Swift, Matlab, R, Rust, Ruby , Ruby, Fortran та Classic Visual Basic.\n",
      "\n",
      "\u001b[1m\u001b[1mPolish Language\n",
      "Ta tabela pokazuje główne 20 języków programowania w maju 2023 i 2022 r., A także wskaźniki klasyfikacji i zmiany w poprzednim roku.Głównymi językami programowania to Python, C, Java, C ++, C #, Visual Basic, JavaScript, Php, SQL, Język asemblera, Delphi / Object Pascal, Go, Scratch, Swift, R, Rust, Ruby, Ruby , Ruby, Fortran i Classic Visual Basic.\n",
      "\n",
      "\u001b[1m\u001b[1mFrench Language\n",
      "Ce tableau montre les 20 principaux langages de programmation en mai 2023 et 2022, ainsi que les taux de classification et les changements par rapport à l'année précédente.Les principaux langages de programmation sont Python, C, Java, C ++, C #, Visual Basic, JavaScript, PHP, SQL, Langage d'assemblage, Delphi / Object Pascal, Go, Scratch, Swift, Matlab, R, Rust, Ruby , Ruby, Fortran et Classic Visual Basic.\n",
      "\n"
     ]
    }
   ],
   "source": [
    "import requests\n",
    "from bs4 import BeautifulSoup\n",
    "import openai\n",
    "from googletrans import Translator\n",
    "\n",
    "\n",
    "class color:\n",
    "    BLACK = '\\033[1m'\n",
    "    BLUE = '\\033[94m'\n",
    "    BOLD = '\\033[1m'\n",
    "    GREEN = '\\033[92m'\n",
    "\n",
    "# URL of the web article\n",
    "url = 'https://www.tiobe.com/tiobe-index/'\n",
    "\n",
    "# Make the HTTP request and get the content of the page\n",
    "response = requests.get(url)\n",
    "html_content = response.text\n",
    "\n",
    "# Use BeautifulSoup to parse HTML content\n",
    "soup = BeautifulSoup(html_content, 'html.parser')\n",
    "\n",
    "article_text = soup.find('table', {'class': 'table table-striped table-top20'})\n",
    "\n",
    "# initialize the OpenAI model\n",
    "openai.api_key = 'your_openai_api_key'\n",
    "openai_model = 'text-davinci-003'\n",
    "\n",
    "# Generate a summary of the article text with the davinci engine\n",
    "response = openai.Completion.create(\n",
    "    engine=openai_model,\n",
    "    prompt=f'Sumarizar: {article_text}',\n",
    "    max_tokens=1250,\n",
    "    temperature=0.3,\n",
    "    top_p=1.0,\n",
    "    frequency_penalty=0.0,\n",
    "    presence_penalty=0.0\n",
    ")\n",
    "\n",
    "summary = response.choices[0].text.strip()\n",
    "\n",
    "# Translate the summary into one of the six available languages\n",
    "translator = Translator(service_urls=['translate.google.com'])\n",
    "languages_items = {'en':'English', 'es':'Spanish', 'it':'Italian', \n",
    "                   'uk':'Ukrainian', 'pl':'Polish', 'fr':'French'}\n",
    "\n",
    "\n",
    "for lang_code, lang_name in languages_items.items():\n",
    "    translated_summary = translator.translate(summary, dest=lang_code).text\n",
    "    title = lang_name.capitalize() + \" Language\"\n",
    "    print(color.BOLD + color.BLACK + title)\n",
    "    print(translated_summary + '\\n')\n"
   ]
  }
 ],
 "metadata": {
  "kernelspec": {
   "display_name": "Python 3",
   "language": "python",
   "name": "python3"
  },
  "language_info": {
   "codemirror_mode": {
    "name": "ipython",
    "version": 3
   },
   "file_extension": ".py",
   "mimetype": "text/x-python",
   "name": "python",
   "nbconvert_exporter": "python",
   "pygments_lexer": "ipython3",
   "version": "3.8.8"
  }
 },
 "nbformat": 4,
 "nbformat_minor": 5
}
